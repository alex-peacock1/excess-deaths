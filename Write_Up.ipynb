{
 "cells": [
  {
   "cell_type": "markdown",
   "id": "f0e34ca2-d9ef-436f-8383-c08aecbd6bbe",
   "metadata": {},
   "source": [
    "# Is there a link between certain Covid-19 vaccines and 2023 excess all cause mortality? "
   ]
  },
  {
   "cell_type": "markdown",
   "id": "ce43f3f8-a85c-4be3-aa84-c12c9e975f1d",
   "metadata": {},
   "source": [
    "- INTRO\n"
   ]
  },
  {
   "cell_type": "code",
   "execution_count": null,
   "id": "eadfad77-05be-48cf-84fd-16ef63886275",
   "metadata": {},
   "outputs": [],
   "source": [
    "# Import and run cleaning files"
   ]
  },
  {
   "cell_type": "code",
   "execution_count": null,
   "id": "0f2f0a9f-4935-4665-a2a3-aaa1af8bdbf9",
   "metadata": {},
   "outputs": [],
   "source": [
    "# Regression 1\n"
   ]
  }
 ],
 "metadata": {
  "kernelspec": {
   "display_name": "Python 3 (ipykernel)",
   "language": "python",
   "name": "python3"
  },
  "language_info": {
   "codemirror_mode": {
    "name": "ipython",
    "version": 3
   },
   "file_extension": ".py",
   "mimetype": "text/x-python",
   "name": "python",
   "nbconvert_exporter": "python",
   "pygments_lexer": "ipython3",
   "version": "3.11.6"
  }
 },
 "nbformat": 4,
 "nbformat_minor": 5
}
