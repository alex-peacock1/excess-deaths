{
 "cells": [
  {
   "cell_type": "markdown",
   "id": "f0e34ca2-d9ef-436f-8383-c08aecbd6bbe",
   "metadata": {},
   "source": [
    "# Is there a link between certain Covid-19 vaccines and 2023 excess all cause mortality? "
   ]
  },
  {
   "cell_type": "markdown",
   "id": "22e74b33-0353-4633-b4d0-2e74461d3cb4",
   "metadata": {},
   "source": [
    "### Introduction "
   ]
  },
  {
   "cell_type": "markdown",
   "id": "fb2d9d1f-9d2a-4538-a983-5736579af0f6",
   "metadata": {},
   "source": [
    "This project aims to investigate excess mortalit EU excess death since covid-19\n",
    "\n",
    "\n",
    "\n",
    "- Define terms - what does excess death mean - ‘The difference between observed and expected number of deaths\n",
    "- Justify our interest in vaccination as a potential cause - the one thing that affected the whole population, reference the UK Parliment speech \n",
    "- Why are we choosing an EU scope - wealth of data makes it possible to compare vaccination types etc"
   ]
  },
  {
   "cell_type": "markdown",
   "id": "84dde0b0-9dad-43a7-b60e-c0c2d6337a26",
   "metadata": {},
   "source": [
    "### Literature review"
   ]
  },
  {
   "cell_type": "markdown",
   "id": "74e0cf54-b706-4086-b887-a2e3a2122eb5",
   "metadata": {},
   "source": [
    "### Excess death data "
   ]
  },
  {
   "cell_type": "markdown",
   "id": "3ee75c18-763b-402c-8b2e-64c5d4eca0ce",
   "metadata": {},
   "source": [
    "- How do Eurostat define an excess death\n",
    "- Where does the data come from - how is it inputted"
   ]
  },
  {
   "cell_type": "markdown",
   "id": "77fb389c-4f0c-4298-b996-5aaac4cfa7ec",
   "metadata": {},
   "source": [
    "### Vaccine data"
   ]
  },
  {
   "cell_type": "markdown",
   "id": "40ba19d9-8d40-485f-badb-dcfd2d0e3c50",
   "metadata": {},
   "source": [
    "### Analysis"
   ]
  },
  {
   "cell_type": "code",
   "execution_count": null,
   "id": "220c5ef7-f74b-4af8-a491-c825ffbefd3c",
   "metadata": {},
   "outputs": [],
   "source": []
  },
  {
   "cell_type": "markdown",
   "id": "39e81926-752e-4710-b29f-eb2b12778bd7",
   "metadata": {},
   "source": [
    "### Results"
   ]
  },
  {
   "cell_type": "markdown",
   "id": "cadef1a8-faf2-467c-9e7e-b196ee9c343e",
   "metadata": {},
   "source": [
    "### Conclusion"
   ]
  },
  {
   "cell_type": "markdown",
   "id": "b580db2d-9227-472f-8b92-2c58e05966c5",
   "metadata": {},
   "source": [
    "- Areas for future research "
   ]
  }
 ],
 "metadata": {
  "kernelspec": {
   "display_name": "Python 3 (ipykernel)",
   "language": "python",
   "name": "python3"
  },
  "language_info": {
   "codemirror_mode": {
    "name": "ipython",
    "version": 3
   },
   "file_extension": ".py",
   "mimetype": "text/x-python",
   "name": "python",
   "nbconvert_exporter": "python",
   "pygments_lexer": "ipython3",
   "version": "3.11.5"
  }
 },
 "nbformat": 4,
 "nbformat_minor": 5
}
